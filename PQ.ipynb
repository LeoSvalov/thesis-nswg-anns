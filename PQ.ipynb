{
 "cells": [
  {
   "cell_type": "code",
   "execution_count": 1,
   "id": "6ce4c9de-a6bb-49a5-b1b6-998e3d780132",
   "metadata": {},
   "outputs": [],
   "source": [
    "import numpy as np\n",
    "from scipy.cluster.vq import whiten, vq, kmeans, kmeans2"
   ]
  },
  {
   "cell_type": "markdown",
   "id": "3d2e7df4-bfc8-41ec-a18c-4faef63c851f",
   "metadata": {},
   "source": [
    "#### dataset train vectors with d = 6"
   ]
  },
  {
   "cell_type": "code",
   "execution_count": 15,
   "id": "a073fd5a-2bce-4f86-895e-918c409d248e",
   "metadata": {},
   "outputs": [
    {
     "data": {
      "text/plain": [
       "(12, 6)"
      ]
     },
     "execution_count": 15,
     "metadata": {},
     "output_type": "execute_result"
    }
   ],
   "source": [
    "data = np.array([[1, 2, 2, 1, 1, 2],\n",
    "               [7, 8, 9, 10, 11, 12],\n",
    "               [1, 4, 1, 2, 1, 3],\n",
    "               [9, 11, 7, 6, 2, 1], \n",
    "               [7, 2, 1, 2, 3, 1], \n",
    "               [4, 6, 2, 5, 1, 4], \n",
    "               [2, 5, 7, 11, 1, 8],\n",
    "               [4, 1, 1, 2, 6, 3],\n",
    "               [3, 10, 2, 6, 1, 1],\n",
    "               [1, 2, 1, 2, 3, 2],\n",
    "               [8, 12, 1, 6, 10, 2],\n",
    "               [12, 11, 8, 10, 11, 12] ])\n",
    "data.shape"
   ]
  },
  {
   "cell_type": "markdown",
   "id": "2c41c2c5-b8d4-4531-bb32-9a650d5fcc79",
   "metadata": {},
   "source": [
    "#### query vector"
   ]
  },
  {
   "cell_type": "code",
   "execution_count": 16,
   "id": "53d38803-4be3-4274-83db-ce94a6779d10",
   "metadata": {},
   "outputs": [],
   "source": [
    "query_x = np.array([[2, 1, 2, 1, 3, 1]])"
   ]
  },
  {
   "cell_type": "markdown",
   "id": "e972e03b-7e3a-4f20-9deb-1e9d681b4097",
   "metadata": {},
   "source": [
    "#### correct neigbours for comparison"
   ]
  },
  {
   "cell_type": "code",
   "execution_count": 17,
   "id": "4ae3fc75-190d-4597-ba68-cb344181e54a",
   "metadata": {},
   "outputs": [],
   "source": [
    "from sklearn.neighbors import NearestNeighbors\n",
    "k = 5\n",
    "true_classifier = NearestNeighbors(n_neighbors=k, metric='l2', algorithm='brute').fit(data)\n",
    "corrects = true_classifier.kneighbors(query_x)"
   ]
  },
  {
   "cell_type": "code",
   "execution_count": 18,
   "id": "79c49668-fc47-4fa1-bd69-6a97ffb221c2",
   "metadata": {},
   "outputs": [
    {
     "data": {
      "text/plain": [
       "array([[9, 0, 7, 2, 4]])"
      ]
     },
     "execution_count": 18,
     "metadata": {},
     "output_type": "execute_result"
    }
   ],
   "source": [
    "corrects[1] "
   ]
  },
  {
   "cell_type": "markdown",
   "id": "c8c6731f-0e65-498a-a85b-2c0233fc672c",
   "metadata": {},
   "source": [
    "#### 1. Divide each vector into subvector, whiten it and collect all together for clustering\n",
    " subvectors - 3 --> each subvector is 2-d "
   ]
  },
  {
   "cell_type": "code",
   "execution_count": 19,
   "id": "cfc91865-ab99-4331-a499-fec6c5122bbe",
   "metadata": {},
   "outputs": [],
   "source": [
    "n_subvectors = 3"
   ]
  },
  {
   "cell_type": "code",
   "execution_count": 20,
   "id": "4b6c1afa-7658-4c88-b792-e7d562405fc1",
   "metadata": {},
   "outputs": [],
   "source": [
    "all_subvectors = []\n",
    "for x in data:\n",
    "    whiten_x = whiten(x)\n",
    "    x_subvectors = np.split(whiten_x, n_subvectors)\n",
    "    all_subvectors += x_subvectors"
   ]
  },
  {
   "cell_type": "code",
   "execution_count": 21,
   "id": "3e419770-da92-4fd4-8e6f-8075ababe525",
   "metadata": {},
   "outputs": [
    {
     "data": {
      "text/plain": [
       "[array([2., 4.]),\n",
       " array([4., 2.]),\n",
       " array([2., 4.]),\n",
       " array([4.09878031, 4.68432035]),\n",
       " array([5.26986039, 5.85540044])]"
      ]
     },
     "execution_count": 21,
     "metadata": {},
     "output_type": "execute_result"
    }
   ],
   "source": [
    "all_subvectors[:5]"
   ]
  },
  {
   "cell_type": "markdown",
   "id": "999c36ba-efc4-46c9-b7a9-c401aa00081a",
   "metadata": {},
   "source": [
    "#### 2.Obtain centroids using kmeans\n",
    "number of centroids - 6"
   ]
  },
  {
   "cell_type": "code",
   "execution_count": 22,
   "id": "c0605259-5e3e-43ae-addc-645d6fb44a2d",
   "metadata": {},
   "outputs": [],
   "source": [
    "n_centroids = 6"
   ]
  },
  {
   "cell_type": "code",
   "execution_count": 23,
   "id": "bbf6281a-c4c1-4292-86fc-83d57f5b8252",
   "metadata": {},
   "outputs": [],
   "source": [
    "centroids = kmeans(all_subvectors, n_centroids)"
   ]
  },
  {
   "cell_type": "code",
   "execution_count": 24,
   "id": "53b2d7c6-a9a7-4f6f-9f9e-6a66a0775dd1",
   "metadata": {},
   "outputs": [
    {
     "data": {
      "text/plain": [
       "(array([[0.63297879, 1.07989119],\n",
       "        [0.95307395, 2.82356166],\n",
       "        [2.92072354, 1.23637004],\n",
       "        [8.36747906, 8.36747906],\n",
       "        [2.67274653, 3.55170563],\n",
       "        [5.84388529, 6.71931657]]),\n",
       " 0.7084054240877972)"
      ]
     },
     "execution_count": 24,
     "metadata": {},
     "output_type": "execute_result"
    }
   ],
   "source": [
    "centroids "
   ]
  },
  {
   "cell_type": "markdown",
   "id": "5f38d01f-2d70-4298-95b0-c14330409a22",
   "metadata": {},
   "source": [
    " the second value is mean val of dists from closest point in each cluster"
   ]
  },
  {
   "cell_type": "code",
   "execution_count": 25,
   "id": "48e5d967-01b0-4871-acb0-cc95c1bb3521",
   "metadata": {},
   "outputs": [],
   "source": [
    "centroids = centroids[0]"
   ]
  },
  {
   "cell_type": "markdown",
   "id": "132073ee-5e9b-45d6-ba98-8fab5b0753a4",
   "metadata": {},
   "source": [
    "#### 3. Assign to subvectors of each vector indices of centrods"
   ]
  },
  {
   "cell_type": "code",
   "execution_count": 26,
   "id": "7d591cda-df91-482f-85aa-e9bf304a1c50",
   "metadata": {},
   "outputs": [],
   "source": [
    "quantized_xs = []\n",
    "for x in data:\n",
    "    whiten_x = whiten(x)\n",
    "    x_subvectors = np.array(np.split(whiten_x, 3))\n",
    "    quantized_x = vq(x_subvectors, centroids)[0]\n",
    "    quantized_xs.append(quantized_x)"
   ]
  },
  {
   "cell_type": "code",
   "execution_count": 27,
   "id": "7a463f3e-362b-4df2-b633-be1b51d4fa72",
   "metadata": {},
   "outputs": [
    {
     "data": {
      "text/plain": [
       "[array([4, 2, 4], dtype=int32),\n",
       " array([4, 5, 5], dtype=int32),\n",
       " array([1, 0, 1], dtype=int32),\n",
       " array([4, 2, 0], dtype=int32),\n",
       " array([2, 0, 0], dtype=int32),\n",
       " array([4, 1, 1], dtype=int32),\n",
       " array([0, 4, 1], dtype=int32),\n",
       " array([2, 0, 2], dtype=int32),\n",
       " array([1, 0, 0], dtype=int32),\n",
       " array([1, 1, 4], dtype=int32),\n",
       " array([4, 0, 2], dtype=int32),\n",
       " array([3, 5, 3], dtype=int32)]"
      ]
     },
     "execution_count": 27,
     "metadata": {},
     "output_type": "execute_result"
    }
   ],
   "source": [
    "quantized_xs"
   ]
  },
  {
   "cell_type": "markdown",
   "id": "78ee028e-6b4b-4fa9-814d-11434c083970",
   "metadata": {},
   "source": [
    "#### 4. Build lookup tables of distances between all centrods\n",
    "for later fast dist calculation with query vector"
   ]
  },
  {
   "cell_type": "code",
   "execution_count": 28,
   "id": "2b950a5a-ea41-4559-9420-884889c77801",
   "metadata": {},
   "outputs": [],
   "source": [
    "lookup_table = np.zeros(shape=(n_centroids,n_centroids))"
   ]
  },
  {
   "cell_type": "code",
   "execution_count": 29,
   "id": "7743b303-2ada-414d-bbd4-e2163deccb4f",
   "metadata": {},
   "outputs": [],
   "source": [
    "from scipy.spatial import distance\n",
    "for i, centroid1 in enumerate(centroids):\n",
    "    for j, centroid2 in enumerate(centroids):\n",
    "        lookup_table[i,j] = distance.euclidean(centroid1, centroid2)\n",
    "        "
   ]
  },
  {
   "cell_type": "code",
   "execution_count": 30,
   "id": "05cba0fe-84fe-47b8-8790-c69f3d52a755",
   "metadata": {},
   "outputs": [
    {
     "data": {
      "text/plain": [
       "array([[ 0.        ,  1.77280783,  2.29308998, 10.62692013,  3.20476505,\n",
       "         7.67832437],\n",
       "       [ 1.77280783,  0.        ,  2.52800753,  9.25788439,  1.86747622,\n",
       "         6.25275474],\n",
       "       [ 2.29308998,  2.52800753,  0.        ,  8.973286  ,  2.32857713,\n",
       "         6.2134996 ],\n",
       "       [10.62692013,  9.25788439,  8.973286  ,  0.        ,  7.45799252,\n",
       "         3.01412759],\n",
       "       [ 3.20476505,  1.86747622,  2.32857713,  7.45799252,  0.        ,\n",
       "         4.48217359],\n",
       "       [ 7.67832437,  6.25275474,  6.2134996 ,  3.01412759,  4.48217359,\n",
       "         0.        ]])"
      ]
     },
     "execution_count": 30,
     "metadata": {},
     "output_type": "execute_result"
    }
   ],
   "source": [
    "lookup_table"
   ]
  },
  {
   "cell_type": "markdown",
   "id": "42981a94-3ab6-47be-a246-640809ae0eff",
   "metadata": {},
   "source": [
    "#### 5. Proccess search of k neigbours for query vector"
   ]
  },
  {
   "cell_type": "code",
   "execution_count": 31,
   "id": "f94c94d0-de48-43c3-a0dc-829806b34407",
   "metadata": {},
   "outputs": [],
   "source": [
    "query_x = np.array([2, 1, 2, 1, 3, 1])"
   ]
  },
  {
   "cell_type": "markdown",
   "id": "f3f8c993-cc24-4942-8961-f013dde0243f",
   "metadata": {},
   "source": [
    "##### 5.1 Quantize query similiar to train vectors"
   ]
  },
  {
   "cell_type": "code",
   "execution_count": 32,
   "id": "8b6ae812-7f5e-4cb9-a123-310f3a1cb326",
   "metadata": {},
   "outputs": [],
   "source": [
    "whiten_query = whiten(query_x)\n",
    "query_subvectors = np.split(whiten_query, n_subvectors)\n",
    "quantized_query = vq(query_subvectors, centroids)[0]"
   ]
  },
  {
   "cell_type": "code",
   "execution_count": 33,
   "id": "64eaed45-f98d-4b89-b5fe-2b0c9f66ab57",
   "metadata": {},
   "outputs": [
    {
     "data": {
      "text/plain": [
       "array([2, 2, 2], dtype=int32)"
      ]
     },
     "execution_count": 33,
     "metadata": {},
     "output_type": "execute_result"
    }
   ],
   "source": [
    "quantized_query"
   ]
  },
  {
   "cell_type": "markdown",
   "id": "6d40654a-f695-49ac-a619-1519ff2af35a",
   "metadata": {},
   "source": [
    "#### Calculate distance beetween quantized query and dataset vectors using lookup table\n",
    "we know all distances between centroids, so just get 2 indices and see in the table. \n",
    "<br>\n",
    "it's Product Quantization --> all distances of subvectors are multiplied for getting vectors' distance"
   ]
  },
  {
   "cell_type": "code",
   "execution_count": 34,
   "id": "e6f76686-94e8-483b-bf52-3759c9cb8bea",
   "metadata": {},
   "outputs": [],
   "source": [
    "eps = 0.00001\n",
    "dists=[]\n",
    "for ind, quantized_x in enumerate(quantized_xs):\n",
    "    dist = 1\n",
    "    for i,j in zip(quantized_query,quantized_x):\n",
    "        dist*= (lookup_table[i,j]+eps)\n",
    "    dists.append((dist, ind))"
   ]
  },
  {
   "cell_type": "code",
   "execution_count": 35,
   "id": "b9d1566a-9b89-4054-a836-4fd5e5375cb2",
   "metadata": {},
   "outputs": [],
   "source": [
    "nearest_inds = [ind for _, ind in sorted(dists, key=lambda x: x[0])[:k]]"
   ]
  },
  {
   "cell_type": "markdown",
   "id": "137998e9-6f17-43ec-a449-f38a060754f2",
   "metadata": {},
   "source": [
    "#### result of PQ:"
   ]
  },
  {
   "cell_type": "code",
   "execution_count": 36,
   "id": "a6c86043-2d33-4dd6-96d9-4de2642462b6",
   "metadata": {},
   "outputs": [
    {
     "data": {
      "text/plain": [
       "[7, 4, 10, 3, 0]"
      ]
     },
     "execution_count": 36,
     "metadata": {},
     "output_type": "execute_result"
    }
   ],
   "source": [
    "nearest_inds"
   ]
  },
  {
   "cell_type": "markdown",
   "id": "a7ecfb0c-37cb-4ee3-80ad-21500d6811ce",
   "metadata": {},
   "source": [
    "#### result of true scikit learn knn Classifier: "
   ]
  },
  {
   "cell_type": "code",
   "execution_count": 37,
   "id": "6a5866dd-c0ea-4236-887a-fadf635ae194",
   "metadata": {},
   "outputs": [
    {
     "data": {
      "text/plain": [
       "array([[9, 0, 7, 2, 4]])"
      ]
     },
     "execution_count": 37,
     "metadata": {},
     "output_type": "execute_result"
    }
   ],
   "source": [
    "corrects[1] "
   ]
  },
  {
   "cell_type": "code",
   "execution_count": 39,
   "id": "440c5674-8af7-4f5b-a893-456222bf2f7b",
   "metadata": {},
   "outputs": [],
   "source": [
    "nearests = [data[i] for i in nearest_inds]"
   ]
  },
  {
   "cell_type": "code",
   "execution_count": 40,
   "id": "e923acc8-8b3f-4a19-b577-8b5727e03eeb",
   "metadata": {},
   "outputs": [
    {
     "name": "stdout",
     "output_type": "stream",
     "text": [
      "[2 1 2 1 3 1]\n",
      "--------------------------------------------------\n"
     ]
    },
    {
     "data": {
      "text/plain": [
       "[array([4, 1, 1, 2, 6, 3]),\n",
       " array([7, 2, 1, 2, 3, 1]),\n",
       " array([ 8, 12,  1,  6, 10,  2]),\n",
       " array([ 9, 11,  7,  6,  2,  1]),\n",
       " array([1, 2, 2, 1, 1, 2])]"
      ]
     },
     "execution_count": 40,
     "metadata": {},
     "output_type": "execute_result"
    }
   ],
   "source": [
    "print(query_x)\n",
    "print('-'*50)\n",
    "nearests"
   ]
  },
  {
   "cell_type": "markdown",
   "id": "fd9c591b-34ee-4b4d-a1d1-58f8a511533f",
   "metadata": {},
   "source": [
    "<hr>"
   ]
  },
  {
   "cell_type": "code",
   "execution_count": 1,
   "id": "d6f92d01-b52e-4dcf-958d-88f1e9f2be88",
   "metadata": {},
   "outputs": [],
   "source": [
    "from product_quantization import PQ\n",
    "import numpy as np\n",
    "from test import test_index"
   ]
  },
  {
   "cell_type": "code",
   "execution_count": 2,
   "id": "1b82fb76-5719-446c-8f86-fd404042a8e7",
   "metadata": {},
   "outputs": [
    {
     "data": {
      "text/plain": [
       "array([[ 1,  2,  2,  1,  1,  2],\n",
       "       [ 7,  8,  9, 10, 11, 12],\n",
       "       [ 1,  4,  1,  2,  1,  3],\n",
       "       [ 9, 11,  7,  6,  2,  1],\n",
       "       [ 7,  2,  1,  2,  3,  1],\n",
       "       [ 4,  6,  2,  5,  1,  4],\n",
       "       [ 2,  5,  7, 11,  1,  8],\n",
       "       [ 4,  1,  1,  2,  6,  3],\n",
       "       [ 3, 10,  2,  6,  1,  1],\n",
       "       [ 1,  2,  1,  2,  3,  2],\n",
       "       [ 8, 12,  1,  6, 10,  2],\n",
       "       [12, 11,  8, 10, 11, 12]])"
      ]
     },
     "execution_count": 2,
     "metadata": {},
     "output_type": "execute_result"
    }
   ],
   "source": [
    "data = np.array([[1, 2, 2, 1, 1, 2],\n",
    "               [7, 8, 9, 10, 11, 12],\n",
    "               [1, 4, 1, 2, 1, 3],\n",
    "               [9, 11, 7, 6, 2, 1], \n",
    "               [7, 2, 1, 2, 3, 1], \n",
    "               [4, 6, 2, 5, 1, 4], \n",
    "               [2, 5, 7, 11, 1, 8],\n",
    "               [4, 1, 1, 2, 6, 3],\n",
    "               [3, 10, 2, 6, 1, 1],\n",
    "               [1, 2, 1, 2, 3, 2],\n",
    "               [8, 12, 1, 6, 10, 2],\n",
    "               [12, 11, 8, 10, 11, 12] ])\n",
    "data"
   ]
  },
  {
   "cell_type": "code",
   "execution_count": 3,
   "id": "67dbaa6f-7f39-4329-9c4e-0bdde6777c73",
   "metadata": {},
   "outputs": [],
   "source": [
    "query = np.array([[2, 1, 2, 1, 3, 1], [11, 10, 9, 8, 4, 1]])\n"
   ]
  },
  {
   "cell_type": "code",
   "execution_count": 4,
   "id": "c4277f60-4ba8-4ce0-83b4-259f46cc243c",
   "metadata": {},
   "outputs": [
    {
     "data": {
      "text/plain": [
       "{'method': 'PQ',\n",
       " 'construction-time': 1.16,\n",
       " 'construction-memory': 0.61,\n",
       " 'search-time': 0.043,\n",
       " 'search-memory': 286.72,\n",
       " 'recall': 0.83}"
      ]
     },
     "execution_count": 4,
     "metadata": {},
     "output_type": "execute_result"
    }
   ],
   "source": [
    "params = {'n_subvectors': 3, 'n_bits':3 }\n",
    "test_index('PQ',  data=data, query=query, k=3, params=params)"
   ]
  },
  {
   "cell_type": "code",
   "execution_count": null,
   "id": "193d8c02-8e3b-4112-b251-363dc4cce088",
   "metadata": {},
   "outputs": [],
   "source": []
  },
  {
   "cell_type": "code",
   "execution_count": null,
   "id": "95b68dcd-5017-4ff0-953c-c21e0174371f",
   "metadata": {},
   "outputs": [],
   "source": []
  }
 ],
 "metadata": {
  "kernelspec": {
   "display_name": "Python 3",
   "language": "python",
   "name": "python3"
  },
  "language_info": {
   "codemirror_mode": {
    "name": "ipython",
    "version": 3
   },
   "file_extension": ".py",
   "mimetype": "text/x-python",
   "name": "python",
   "nbconvert_exporter": "python",
   "pygments_lexer": "ipython3",
   "version": "3.9.7"
  }
 },
 "nbformat": 4,
 "nbformat_minor": 5
}
