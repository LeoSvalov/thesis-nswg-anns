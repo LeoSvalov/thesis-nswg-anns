{
 "cells": [
  {
   "cell_type": "code",
   "execution_count": 1,
   "id": "37e28399",
   "metadata": {
    "id": "1b9d3268"
   },
   "outputs": [],
   "source": [
    "from sklearn.neighbors import KDTree, BallTree\n",
    "from _navigable_small_world_graph import NSWGraph\n",
    "import faiss \n",
    "import nmslib\n",
    "import numpy as np\n",
    "import os\n",
    "import time\n",
    "import matplotlib.pyplot as plt\n",
    "%matplotlib inline"
   ]
  },
  {
   "cell_type": "code",
   "execution_count": 2,
   "id": "8287cddd",
   "metadata": {
    "id": "d5a9227d"
   },
   "outputs": [],
   "source": [
    "def balltree(X, query):\n",
    "    start = time.time()\n",
    "    tree = BallTree(X, leaf_size=2)\n",
    "    dist, ind = tree.query(query[:1], k=5)\n",
    "    end = time.time()\n",
    "    t = end - start\n",
    "    t = round(t,5)\n",
    "    return t, ind[0].tolist()\n",
    "\n",
    "def kdtree(X, query):\n",
    "    start = time.time()\n",
    "    tree = KDTree(X, leaf_size=2)\n",
    "    dist, ind = tree.query(query[:1], k=5)\n",
    "    end = time.time()\n",
    "    t = end - start\n",
    "    t = round(t,5)\n",
    "    return t, ind[0].tolist()\n",
    "\n",
    "def nswg(X, query):\n",
    "    start = time.time()\n",
    "    g = NSWGraph(len(X), len(X[0]))\n",
    "    nodes = g.build_navigable_graph(X)\n",
    "    closests = g.multi_search(query[0], top=5)\n",
    "    end = time.time()\n",
    "    t = end - start\n",
    "    t = round(t,5)\n",
    "    return t, closests\n",
    "\n",
    "def fais(X, query):\n",
    "    start = time.time()\n",
    "    d = len(X[0])\n",
    "    index = faiss.IndexFlatL2(d) \n",
    "    index.add(np.ascontiguousarray(X))\n",
    "    D, I = index.search(query, 5)\n",
    "    end = time.time()\n",
    "    t = end - start\n",
    "    t = round(t,5)\n",
    "    return t, I[0].tolist()\n",
    "def hnsw(X, query):\n",
    "    start = time.time()\n",
    "    index = nmslib.init(method='hnsw', space='l2')\n",
    "    index.addDataPointBatch(X)\n",
    "    index.createIndex({'post': 2})\n",
    "    ids, distances = index.knnQuery(query, k=5)\n",
    "    end = time.time()\n",
    "    t = end - start\n",
    "    t = round(t,5)\n",
    "    return t, ids.tolist()"
   ]
  },
  {
   "cell_type": "code",
   "execution_count": null,
   "id": "6beb3e7a",
   "metadata": {
    "id": "7945dc1e"
   },
   "outputs": [
    {
     "ename": "TypeError",
     "evalue": "only size-1 arrays can be converted to Python scalars",
     "output_type": "error",
     "traceback": [
      "\u001b[0;31m---------------------------------------------------------------------------\u001b[0m",
      "\u001b[0;31mTypeError\u001b[0m                                 Traceback (most recent call last)",
      "\u001b[0;32m<ipython-input-16-8384dde7477b>\u001b[0m in \u001b[0;36m<module>\u001b[0;34m\u001b[0m\n\u001b[1;32m     16\u001b[0m     \u001b[0mkd\u001b[0m\u001b[0;34m.\u001b[0m\u001b[0mappend\u001b[0m\u001b[0;34m(\u001b[0m\u001b[0mt\u001b[0m\u001b[0;34m)\u001b[0m\u001b[0;34m\u001b[0m\u001b[0;34m\u001b[0m\u001b[0m\n\u001b[1;32m     17\u001b[0m \u001b[0;34m\u001b[0m\u001b[0m\n\u001b[0;32m---> 18\u001b[0;31m     \u001b[0mt\u001b[0m\u001b[0;34m,\u001b[0m \u001b[0mInswg\u001b[0m \u001b[0;34m=\u001b[0m \u001b[0mnswg\u001b[0m\u001b[0;34m(\u001b[0m\u001b[0mX\u001b[0m\u001b[0;34m,\u001b[0m\u001b[0mquery\u001b[0m\u001b[0;34m)\u001b[0m\u001b[0;34m\u001b[0m\u001b[0;34m\u001b[0m\u001b[0m\n\u001b[0m\u001b[1;32m     19\u001b[0m     \u001b[0mnsw\u001b[0m\u001b[0;34m.\u001b[0m\u001b[0mappend\u001b[0m\u001b[0;34m(\u001b[0m\u001b[0mt\u001b[0m\u001b[0;34m)\u001b[0m\u001b[0;34m\u001b[0m\u001b[0;34m\u001b[0m\u001b[0m\n\u001b[1;32m     20\u001b[0m \u001b[0;34m\u001b[0m\u001b[0m\n",
      "\u001b[0;32m<ipython-input-15-f482f703cef7>\u001b[0m in \u001b[0;36mnswg\u001b[0;34m(X, query)\u001b[0m\n\u001b[1;32m     21\u001b[0m     \u001b[0mg\u001b[0m \u001b[0;34m=\u001b[0m \u001b[0mNSWGraph\u001b[0m\u001b[0;34m(\u001b[0m\u001b[0mlen\u001b[0m\u001b[0;34m(\u001b[0m\u001b[0mX\u001b[0m\u001b[0;34m)\u001b[0m\u001b[0;34m,\u001b[0m \u001b[0mlen\u001b[0m\u001b[0;34m(\u001b[0m\u001b[0mquery\u001b[0m\u001b[0;34m[\u001b[0m\u001b[0;36m0\u001b[0m\u001b[0;34m]\u001b[0m\u001b[0;34m)\u001b[0m\u001b[0;34m)\u001b[0m\u001b[0;34m\u001b[0m\u001b[0;34m\u001b[0m\u001b[0m\n\u001b[1;32m     22\u001b[0m     \u001b[0mnodes\u001b[0m \u001b[0;34m=\u001b[0m \u001b[0mg\u001b[0m\u001b[0;34m.\u001b[0m\u001b[0mbuild_navigable_graph\u001b[0m\u001b[0;34m(\u001b[0m\u001b[0mX\u001b[0m\u001b[0;34m)\u001b[0m\u001b[0;34m\u001b[0m\u001b[0;34m\u001b[0m\u001b[0m\n\u001b[0;32m---> 23\u001b[0;31m     \u001b[0mclosests\u001b[0m \u001b[0;34m=\u001b[0m \u001b[0mg\u001b[0m\u001b[0;34m.\u001b[0m\u001b[0mmulti_search\u001b[0m\u001b[0;34m(\u001b[0m\u001b[0mquery\u001b[0m\u001b[0;34m,\u001b[0m \u001b[0mtop\u001b[0m\u001b[0;34m=\u001b[0m\u001b[0;36m5\u001b[0m\u001b[0;34m)\u001b[0m\u001b[0;34m\u001b[0m\u001b[0;34m\u001b[0m\u001b[0m\n\u001b[0m\u001b[1;32m     24\u001b[0m     \u001b[0mend\u001b[0m \u001b[0;34m=\u001b[0m \u001b[0mtime\u001b[0m\u001b[0;34m.\u001b[0m\u001b[0mtime\u001b[0m\u001b[0;34m(\u001b[0m\u001b[0;34m)\u001b[0m\u001b[0;34m\u001b[0m\u001b[0;34m\u001b[0m\u001b[0m\n\u001b[1;32m     25\u001b[0m     \u001b[0mt\u001b[0m \u001b[0;34m=\u001b[0m \u001b[0mend\u001b[0m \u001b[0;34m-\u001b[0m \u001b[0mstart\u001b[0m\u001b[0;34m\u001b[0m\u001b[0;34m\u001b[0m\u001b[0m\n",
      "\u001b[0;32m~/code_workspace/thesis/sources/_navigable_small_world_graph.pyx\u001b[0m in \u001b[0;36m_navigable_small_world_graph.NSWGraph.multi_search\u001b[0;34m()\u001b[0m\n\u001b[1;32m    126\u001b[0m         \u001b[0;32mreturn\u001b[0m \u001b[0;34m(\u001b[0m\u001b[0mres\u001b[0m\u001b[0;34m.\u001b[0m\u001b[0mfirst\u001b[0m\u001b[0;34m,\u001b[0m \u001b[0mres\u001b[0m\u001b[0;34m.\u001b[0m\u001b[0msecond\u001b[0m\u001b[0;34m)\u001b[0m\u001b[0;34m\u001b[0m\u001b[0;34m\u001b[0m\u001b[0m\n\u001b[1;32m    127\u001b[0m \u001b[0;34m\u001b[0m\u001b[0m\n\u001b[0;32m--> 128\u001b[0;31m     \u001b[0mcdef\u001b[0m \u001b[0mpair\u001b[0m\u001b[0;34m[\u001b[0m\u001b[0mvector\u001b[0m\u001b[0;34m[\u001b[0m\u001b[0mITYPE_t\u001b[0m\u001b[0;34m]\u001b[0m\u001b[0;34m,\u001b[0m \u001b[0mITYPE_t\u001b[0m\u001b[0;34m]\u001b[0m \u001b[0m_multi_search\u001b[0m\u001b[0;34m(\u001b[0m\u001b[0mself\u001b[0m\u001b[0;34m,\u001b[0m \u001b[0mvector\u001b[0m\u001b[0;34m[\u001b[0m\u001b[0mDTYPE_t\u001b[0m\u001b[0;34m]\u001b[0m \u001b[0mquery\u001b[0m\u001b[0;34m,\u001b[0m \u001b[0mITYPE_t\u001b[0m \u001b[0mattempts\u001b[0m\u001b[0;34m,\u001b[0m \u001b[0mITYPE_t\u001b[0m \u001b[0mtop\u001b[0m\u001b[0;34m=\u001b[0m\u001b[0;36m5\u001b[0m\u001b[0;34m)\u001b[0m \u001b[0mnogil\u001b[0m\u001b[0;34m:\u001b[0m\u001b[0;34m\u001b[0m\u001b[0;34m\u001b[0m\u001b[0m\n\u001b[0m\u001b[1;32m    129\u001b[0m         \u001b[0;34m'''Implementation of `K-NNSearch`, but without keeping the visitedSet'''\u001b[0m\u001b[0;34m\u001b[0m\u001b[0;34m\u001b[0m\u001b[0m\n\u001b[1;32m    130\u001b[0m         \u001b[0;31m# share visitedSet among searched. Paper, 4.2.p2\u001b[0m\u001b[0;34m\u001b[0m\u001b[0;34m\u001b[0m\u001b[0m\n",
      "\u001b[0;32m~/code_workspace/thesis/sources/_navigable_small_world_graph.so\u001b[0m in \u001b[0;36mvector.from_py.__pyx_convert_vector_from_py___pyx_t_28_navigable_small_world_graph_DTYPE_t\u001b[0;34m()\u001b[0m\n",
      "\u001b[0;31mTypeError\u001b[0m: only size-1 arrays can be converted to Python scalars"
     ]
    }
   ],
   "source": [
    "dimensions = [64, 128, 512, 1000, 5000, 10000, 25000, 50000]\n",
    "n = 500\n",
    "nsw = []\n",
    "ball = []\n",
    "kd = []\n",
    "faisses = []\n",
    "hnsws = []\n",
    "for d in dimensions:\n",
    "    np.random.seed(1234) \n",
    "    X = np.random.random((n, d)).astype('float32')\n",
    "    query = np.random.random((1, d)).astype('float32')\n",
    "    t, Iball = balltree(X,query)\n",
    "    ball.append(t)\n",
    "    \n",
    "    t, Ikd = kdtree(X,query)\n",
    "    kd.append(t)\n",
    "    \n",
    "    t, Inswg = nswg(X,query)\n",
    "    nsw.append(t)\n",
    "    \n",
    "    t, Ifaiss = fais(X,query)\n",
    "    faisses.append(t)\n",
    "    \n",
    "    t, Ihnsw = hnsw(X,query)\n",
    "    hnsws.append(t)\n",
    "    print(f'dimensions-{d}, {Inswg==Ifaiss}')\n",
    "    if Inswg!=Ifaiss:\n",
    "        print(f'  faiss: {Ifaiss}')\n",
    "        print(f'  hnsw: {Ihnsw}')\n",
    "        print(f'  NSWG: {Inswg}')\n",
    "    "
   ]
  },
  {
   "cell_type": "code",
   "execution_count": null,
   "id": "309fec55",
   "metadata": {},
   "outputs": [
    {
     "data": {
      "text/plain": [
       "[0.105, 0.18948, 0.4049, 0.77356, 2.60705, 4.87534, 11.91448, 23.67842]"
      ]
     },
     "execution_count": 4,
     "metadata": {},
     "output_type": "execute_result"
    }
   ],
   "source": [
    "nsw"
   ]
  },
  {
   "cell_type": "markdown",
   "id": "6fdcb467",
   "metadata": {},
   "source": [
    "regularity = # dimensions\n",
    "attempts = 3\n",
    "hops_guard = 16\n",
    "\n",
    "[0.20553, 0.27244, 0.72569, 0.92167, 2.93306, 5.23911, 12.21322, 25.136]\n"
   ]
  },
  {
   "cell_type": "markdown",
   "id": "ffe529e5",
   "metadata": {},
   "source": [
    "## default values:  \n",
    "regularity = 3 * # dimensions\n",
    "attempts = 3\n",
    "hops_guard = 100\n",
    "\n",
    "[1.738, 2.70424, 2.96379, 3.3723, 5.62317, 8.20432, 15.30823, 26.83019]"
   ]
  },
  {
   "cell_type": "code",
   "execution_count": null,
   "id": "4831ea70",
   "metadata": {},
   "outputs": [],
   "source": [
    "plt.rcParams[\"figure.figsize\"] = (12, 15)"
   ]
  },
  {
   "cell_type": "code",
   "execution_count": null,
   "id": "3c4ffccc",
   "metadata": {
    "id": "7c75d4c6"
   },
   "outputs": [
    {
     "data": {
      "image/png": "[encoded data removed]",
      "text/plain": [
       "<Figure size 864x1080 with 1 Axes>"
      ]
     },
     "metadata": {
      "needs_background": "light"
     },
     "output_type": "display_data"
    }
   ],
   "source": [
    "fig = plt.figure()\n",
    "ax = fig.add_subplot(2, 1, 1)\n",
    "ax.set_xscale('log')\n",
    "ax.plot(dimensions,nsw,marker='o')\n",
    "ax.plot(dimensions,ball,marker='o')\n",
    "ax.plot(dimensions,kd,marker='o')\n",
    "ax.plot(dimensions,faisses,marker='o')\n",
    "ax.plot(dimensions,hnsws,marker='o')\n",
    "ax.set_xscale('log')\n",
    "plt.title(f'Perfomance of top-5 neigbours search in multi-dimensional dataset with size {n}.')\n",
    "plt.legend([\"current-NSW\", \"sklearn-BallTree\", \"sklearn-KdTree\", \"Faiss\", \"nmslib-HNSW\"])\n",
    "plt.xlabel(\"Number of dimensions\", )\n",
    "plt.ylabel(\"Time, seconds\")\n",
    "plt.show()"
   ]
  },
  {
   "cell_type": "code",
   "execution_count": null,
   "id": "3a83c36d",
   "metadata": {},
   "outputs": [],
   "source": [
    "number_slider = 0 #@param {type:\"slider\", min:-1, max:1, step:0.1}\n"
   ]
  },
  {
   "cell_type": "code",
   "execution_count": 10,
   "id": "679d34c7-c229-4b42-ad42-f64831af15e7",
   "metadata": {},
   "outputs": [],
   "source": [
    "X = np.random.random((50, 64)).astype('float32')\n",
    "query = np.random.random((10, 64)).astype('float32')"
   ]
  },
  {
   "cell_type": "code",
   "execution_count": 11,
   "id": "b8c0b88d-1578-481d-af04-7ae59f2c706a",
   "metadata": {},
   "outputs": [],
   "source": [
    "g = NSWGraph(len(X), len(X[0]))\n",
    "g.build_navigable_graph(X)\n",
    "closests = g.knnQueryBatch(query, top=5)"
   ]
  },
  {
   "cell_type": "code",
   "execution_count": 12,
   "id": "33aaa34e-a4cd-46ee-bdfc-c08b7489d446",
   "metadata": {},
   "outputs": [
    {
     "data": {
      "text/plain": [
       "[[11, 46, 28, 5, 41],\n",
       " [20, 15, 6, 14, 39],\n",
       " [9, 19, 46, 14, 11],\n",
       " [16, 27, 15, 19, 25],\n",
       " [41, 5, 45, 7, 10],\n",
       " [18, 7, 27, 16, 0],\n",
       " [22, 9, 46, 4, 39],\n",
       " [41, 22, 6, 14, 27],\n",
       " [2, 11, 3, 42, 41],\n",
       " [43, 15, 22, 27, 11]]"
      ]
     },
     "execution_count": 12,
     "metadata": {},
     "output_type": "execute_result"
    }
   ],
   "source": [
    "closests"
   ]
  },
  {
   "cell_type": "code",
   "execution_count": null,
   "id": "0224165b-afec-47cc-85ec-8ad5cb7c7ba1",
   "metadata": {},
   "outputs": [],
   "source": []
  }
 ],
 "metadata": {
  "colab": {
   "collapsed_sections": [],
   "name": "compare.ipynb",
   "provenance": []
  },
  "kernelspec": {
   "display_name": "Python 3",
   "language": "python",
   "name": "python3"
  },
  "language_info": {
   "codemirror_mode": {
    "name": "ipython",
    "version": 3
   },
   "file_extension": ".py",
   "mimetype": "text/x-python",
   "name": "python",
   "nbconvert_exporter": "python",
   "pygments_lexer": "ipython3",
   "version": "3.9.7"
  }
 },
 "nbformat": 4,
 "nbformat_minor": 5
}
