{
 "cells": [
  {
   "cell_type": "code",
   "execution_count": 6,
   "id": "649b66d2",
   "metadata": {},
   "outputs": [
    {
     "name": "stderr",
     "output_type": "stream",
     "text": [
      "Your CPU supports instructions that this binary was not compiled to use: SSE3 SSE4.1 SSE4.2 AVX AVX2\n",
      "For maximum performance, you can install NMSLIB from sources \n",
      "pip install --no-binary :all: nmslib\n"
     ]
    }
   ],
   "source": [
    "from sklearn.neighbors import NearestNeighbors\n",
    "from _navigable_small_world_graph import NSWGraph\n",
    "from test import test_index"
   ]
  },
  {
   "cell_type": "code",
   "execution_count": 3,
   "id": "341de6c5",
   "metadata": {},
   "outputs": [],
   "source": [
    "data = []\n",
    "query = []"
   ]
  },
  {
   "cell_type": "code",
   "execution_count": 4,
   "id": "48331d59",
   "metadata": {},
   "outputs": [],
   "source": [
    "#parameters"
   ]
  },
  {
   "cell_type": "code",
   "execution_count": 5,
   "id": "52790a9a",
   "metadata": {},
   "outputs": [],
   "source": [
    "# index = NSWGraph(n_nodes=len(data), dimensions=len(data[0]), reg=reg, guard_hops=guard_hops)"
   ]
  },
  {
   "cell_type": "code",
   "execution_count": null,
   "id": "c2ba4b0c",
   "metadata": {},
   "outputs": [],
   "source": [
    "# index.build_navigable_graph(data, attempts=attempts, quantize=quantize, quantization_levels=levels)"
   ]
  }
 ],
 "metadata": {
  "kernelspec": {
   "display_name": "Python 3 (ipykernel)",
   "language": "python",
   "name": "python3"
  },
  "language_info": {
   "codemirror_mode": {
    "name": "ipython",
    "version": 3
   },
   "file_extension": ".py",
   "mimetype": "text/x-python",
   "name": "python",
   "nbconvert_exporter": "python",
   "pygments_lexer": "ipython3",
   "version": "3.9.2"
  }
 },
 "nbformat": 4,
 "nbformat_minor": 5
}
